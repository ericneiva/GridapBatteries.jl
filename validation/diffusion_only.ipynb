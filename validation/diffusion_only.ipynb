{
 "cells": [
  {
   "cell_type": "code",
   "execution_count": 1,
   "metadata": {},
   "outputs": [],
   "source": [
    "import pybamm\n",
    "from src import DiffusionOnly, Simulation"
   ]
  },
  {
   "cell_type": "code",
   "execution_count": 5,
   "metadata": {},
   "outputs": [
    {
     "name": "stderr",
     "output_type": "stream",
     "text": [
      "At t = 3.53264 repeated recoverable right-hand side function errors.\n"
     ]
    },
    {
     "ename": "SolverError",
     "evalue": "Error in Function::call for 'F' [CvodesInterface] at .../casadi/core/function.cpp:1401:\nError in Function::call for 'F' [CvodesInterface] at .../casadi/core/function.cpp:330:\n.../casadi/interfaces/sundials/cvodes_interface.cpp:392: CVode returned \"CV_REPTD_RHSFUNC_ERR\". Consult CVODES documentation.",
     "output_type": "error",
     "traceback": [
      "\u001b[0;31m---------------------------------------------------------------------------\u001b[0m",
      "\u001b[0;31mRuntimeError\u001b[0m                              Traceback (most recent call last)",
      "\u001b[0;32m~/GridapBatteries.jl/validation/env/lib/python3.9/site-packages/pybamm/solvers/casadi_solver.py\u001b[0m in \u001b[0;36m?\u001b[0;34m(self, model, y0, inputs_dict, inputs, t_eval, use_grid, extract_sensitivities_in_solution)\u001b[0m\n\u001b[1;32m    685\u001b[0m                 \u001b[0;31m# If it doesn't work raise error\u001b[0m\u001b[0;34m\u001b[0m\u001b[0;34m\u001b[0m\u001b[0m\n\u001b[1;32m    686\u001b[0m                 \u001b[0mpybamm\u001b[0m\u001b[0;34m.\u001b[0m\u001b[0mlogger\u001b[0m\u001b[0;34m.\u001b[0m\u001b[0mdebug\u001b[0m\u001b[0;34m(\u001b[0m\u001b[0;34mf\"Casadi integrator failed with error {error}\"\u001b[0m\u001b[0;34m)\u001b[0m\u001b[0;34m\u001b[0m\u001b[0;34m\u001b[0m\u001b[0m\n\u001b[0;32m--> 687\u001b[0;31m                 \u001b[0;32mraise\u001b[0m \u001b[0mpybamm\u001b[0m\u001b[0;34m.\u001b[0m\u001b[0mSolverError\u001b[0m\u001b[0;34m(\u001b[0m\u001b[0merror\u001b[0m\u001b[0;34m.\u001b[0m\u001b[0margs\u001b[0m\u001b[0;34m[\u001b[0m\u001b[0;36m0\u001b[0m\u001b[0;34m]\u001b[0m\u001b[0;34m)\u001b[0m\u001b[0;34m\u001b[0m\u001b[0;34m\u001b[0m\u001b[0m\n\u001b[0m\u001b[1;32m    688\u001b[0m             \u001b[0mpybamm\u001b[0m\u001b[0;34m.\u001b[0m\u001b[0mlogger\u001b[0m\u001b[0;34m.\u001b[0m\u001b[0mdebug\u001b[0m\u001b[0;34m(\u001b[0m\u001b[0;34m\"Finished casadi integrator\"\u001b[0m\u001b[0;34m)\u001b[0m\u001b[0;34m\u001b[0m\u001b[0;34m\u001b[0m\u001b[0m\n",
      "\u001b[0;32m~/GridapBatteries.jl/validation/env/lib/python3.9/site-packages/casadi/casadi.py\u001b[0m in \u001b[0;36m?\u001b[0;34m(self, *args, **kwargs)\u001b[0m\n\u001b[1;32m  23370\u001b[0m       \u001b[0;32melse\u001b[0m\u001b[0;34m:\u001b[0m\u001b[0;34m\u001b[0m\u001b[0;34m\u001b[0m\u001b[0m\n\u001b[1;32m  23371\u001b[0m     \u001b[0;31m# Named inputs -> return dictionary\u001b[0m\u001b[0;34m\u001b[0m\u001b[0;34m\u001b[0m\u001b[0m\n\u001b[0;32m> 23372\u001b[0;31m         \u001b[0;32mreturn\u001b[0m \u001b[0mself\u001b[0m\u001b[0;34m.\u001b[0m\u001b[0mcall\u001b[0m\u001b[0;34m(\u001b[0m\u001b[0mkwargs\u001b[0m\u001b[0;34m)\u001b[0m\u001b[0;34m\u001b[0m\u001b[0;34m\u001b[0m\u001b[0m\n\u001b[0m",
      "\u001b[0;32m~/GridapBatteries.jl/validation/env/lib/python3.9/site-packages/casadi/casadi.py\u001b[0m in \u001b[0;36m?\u001b[0;34m(self, *args)\u001b[0m\n\u001b[1;32m  20019\u001b[0m \u001b[0;34m\u001b[0m\u001b[0m\n\u001b[1;32m  20020\u001b[0m         \"\"\"\n\u001b[0;32m> 20021\u001b[0;31m         \u001b[0;32mreturn\u001b[0m \u001b[0m_casadi\u001b[0m\u001b[0;34m.\u001b[0m\u001b[0mFunction_call\u001b[0m\u001b[0;34m(\u001b[0m\u001b[0mself\u001b[0m\u001b[0;34m,\u001b[0m \u001b[0;34m*\u001b[0m\u001b[0margs\u001b[0m\u001b[0;34m)\u001b[0m\u001b[0;34m\u001b[0m\u001b[0;34m\u001b[0m\u001b[0m\n\u001b[0m",
      "\u001b[0;31mRuntimeError\u001b[0m: Error in Function::call for 'F' [CvodesInterface] at .../casadi/core/function.cpp:1401:\nError in Function::call for 'F' [CvodesInterface] at .../casadi/core/function.cpp:330:\n.../casadi/interfaces/sundials/cvodes_interface.cpp:392: CVode returned \"CV_REPTD_RHSFUNC_ERR\". Consult CVODES documentation.",
      "\nDuring handling of the above exception, another exception occurred:\n",
      "\u001b[0;31mSolverError\u001b[0m                               Traceback (most recent call last)",
      "Cell \u001b[0;32mIn[5], line 16\u001b[0m\n\u001b[1;32m      3\u001b[0m parameters \u001b[39m=\u001b[39m pybamm\u001b[39m.\u001b[39mParameterValues({\n\u001b[1;32m      4\u001b[0m     \u001b[39m\"\u001b[39m\u001b[39mElectrode diffusivity [m2.s-1]\u001b[39m\u001b[39m\"\u001b[39m: \u001b[39m1\u001b[39m,\n\u001b[1;32m      5\u001b[0m     \u001b[39m\"\u001b[39m\u001b[39mElectrolyte diffusivity [m2.s-1]\u001b[39m\u001b[39m\"\u001b[39m: \u001b[39m1\u001b[39m,\n\u001b[0;32m   (...)\u001b[0m\n\u001b[1;32m     12\u001b[0m     \u001b[39m\"\u001b[39m\u001b[39mElectrolyte thickness [m]\u001b[39m\u001b[39m\"\u001b[39m: \u001b[39m1\u001b[39m,\n\u001b[1;32m     13\u001b[0m })\n\u001b[1;32m     15\u001b[0m sim \u001b[39m=\u001b[39m Simulation(model, parameter_values\u001b[39m=\u001b[39mparameters)\n\u001b[0;32m---> 16\u001b[0m sol \u001b[39m=\u001b[39m sim\u001b[39m.\u001b[39;49msolve([\u001b[39m0\u001b[39;49m, \u001b[39m100\u001b[39;49m])\n",
      "File \u001b[0;32m~/GridapBatteries.jl/validation/src/simulation.py:184\u001b[0m, in \u001b[0;36mSimulation.solve\u001b[0;34m(self, t_eval, solver, check_model, callbacks, **kwargs)\u001b[0m\n\u001b[1;32m    181\u001b[0m callbacks \u001b[39m=\u001b[39m pybamm\u001b[39m.\u001b[39mcallbacks\u001b[39m.\u001b[39msetup_callbacks(callbacks)\n\u001b[1;32m    183\u001b[0m \u001b[39mself\u001b[39m\u001b[39m.\u001b[39mbuild(check_model\u001b[39m=\u001b[39mcheck_model)\n\u001b[0;32m--> 184\u001b[0m \u001b[39mself\u001b[39m\u001b[39m.\u001b[39m_solution \u001b[39m=\u001b[39m solver\u001b[39m.\u001b[39;49msolve(\u001b[39mself\u001b[39;49m\u001b[39m.\u001b[39;49mbuilt_model, t_eval, \u001b[39m*\u001b[39;49m\u001b[39m*\u001b[39;49mkwargs)\n\u001b[1;32m    186\u001b[0m \u001b[39mreturn\u001b[39;00m \u001b[39mself\u001b[39m\u001b[39m.\u001b[39msolution\n",
      "File \u001b[0;32m~/GridapBatteries.jl/validation/env/lib/python3.9/site-packages/pybamm/solvers/base_solver.py:856\u001b[0m, in \u001b[0;36mBaseSolver.solve\u001b[0;34m(self, model, t_eval, inputs, initial_conditions, nproc, calculate_sensitivities)\u001b[0m\n\u001b[1;32m    854\u001b[0m ninputs \u001b[39m=\u001b[39m \u001b[39mlen\u001b[39m(model_inputs_list)\n\u001b[1;32m    855\u001b[0m \u001b[39mif\u001b[39;00m ninputs \u001b[39m==\u001b[39m \u001b[39m1\u001b[39m:\n\u001b[0;32m--> 856\u001b[0m     new_solution \u001b[39m=\u001b[39m \u001b[39mself\u001b[39;49m\u001b[39m.\u001b[39;49m_integrate(\n\u001b[1;32m    857\u001b[0m         model,\n\u001b[1;32m    858\u001b[0m         t_eval[start_index:end_index],\n\u001b[1;32m    859\u001b[0m         model_inputs_list[\u001b[39m0\u001b[39;49m],\n\u001b[1;32m    860\u001b[0m     )\n\u001b[1;32m    861\u001b[0m     new_solutions \u001b[39m=\u001b[39m [new_solution]\n\u001b[1;32m    862\u001b[0m \u001b[39melse\u001b[39;00m:\n",
      "File \u001b[0;32m~/GridapBatteries.jl/validation/env/lib/python3.9/site-packages/pybamm/solvers/casadi_solver.py:172\u001b[0m, in \u001b[0;36mCasadiSolver._integrate\u001b[0;34m(self, model, t_eval, inputs_dict)\u001b[0m\n\u001b[1;32m    168\u001b[0m \u001b[39m# Create an integrator with the grid (we just need to do this once)\u001b[39;00m\n\u001b[1;32m    169\u001b[0m \u001b[39mself\u001b[39m\u001b[39m.\u001b[39mcreate_integrator(\n\u001b[1;32m    170\u001b[0m     model, inputs, t_eval, use_event_switch\u001b[39m=\u001b[39muse_event_switch\n\u001b[1;32m    171\u001b[0m )\n\u001b[0;32m--> 172\u001b[0m solution \u001b[39m=\u001b[39m \u001b[39mself\u001b[39;49m\u001b[39m.\u001b[39;49m_run_integrator(\n\u001b[1;32m    173\u001b[0m     model, model\u001b[39m.\u001b[39;49my0, inputs_dict, inputs, t_eval\n\u001b[1;32m    174\u001b[0m )\n\u001b[1;32m    175\u001b[0m \u001b[39m# Check if the sign of an event changes, if so find an accurate\u001b[39;00m\n\u001b[1;32m    176\u001b[0m \u001b[39m# termination point and exit\u001b[39;00m\n\u001b[1;32m    177\u001b[0m solution \u001b[39m=\u001b[39m \u001b[39mself\u001b[39m\u001b[39m.\u001b[39m_solve_for_event(solution)\n",
      "File \u001b[0;32m~/GridapBatteries.jl/validation/env/lib/python3.9/site-packages/pybamm/solvers/casadi_solver.py:687\u001b[0m, in \u001b[0;36mCasadiSolver._run_integrator\u001b[0;34m(self, model, y0, inputs_dict, inputs, t_eval, use_grid, extract_sensitivities_in_solution)\u001b[0m\n\u001b[1;32m    684\u001b[0m \u001b[39mexcept\u001b[39;00m \u001b[39mRuntimeError\u001b[39;00m \u001b[39mas\u001b[39;00m error:\n\u001b[1;32m    685\u001b[0m     \u001b[39m# If it doesn't work raise error\u001b[39;00m\n\u001b[1;32m    686\u001b[0m     pybamm\u001b[39m.\u001b[39mlogger\u001b[39m.\u001b[39mdebug(\u001b[39mf\u001b[39m\u001b[39m\"\u001b[39m\u001b[39mCasadi integrator failed with error \u001b[39m\u001b[39m{\u001b[39;00merror\u001b[39m}\u001b[39;00m\u001b[39m\"\u001b[39m)\n\u001b[0;32m--> 687\u001b[0m     \u001b[39mraise\u001b[39;00m pybamm\u001b[39m.\u001b[39mSolverError(error\u001b[39m.\u001b[39margs[\u001b[39m0\u001b[39m])\n\u001b[1;32m    688\u001b[0m pybamm\u001b[39m.\u001b[39mlogger\u001b[39m.\u001b[39mdebug(\u001b[39m\"\u001b[39m\u001b[39mFinished casadi integrator\u001b[39m\u001b[39m\"\u001b[39m)\n\u001b[1;32m    689\u001b[0m integration_time \u001b[39m=\u001b[39m timer\u001b[39m.\u001b[39mtime()\n",
      "\u001b[0;31mSolverError\u001b[0m: Error in Function::call for 'F' [CvodesInterface] at .../casadi/core/function.cpp:1401:\nError in Function::call for 'F' [CvodesInterface] at .../casadi/core/function.cpp:330:\n.../casadi/interfaces/sundials/cvodes_interface.cpp:392: CVode returned \"CV_REPTD_RHSFUNC_ERR\". Consult CVODES documentation."
     ]
    }
   ],
   "source": [
    "model = DiffusionOnly()\n",
    "\n",
    "parameters = pybamm.ParameterValues({\n",
    "    \"Electrode diffusivity [m2.s-1]\": 1,\n",
    "    \"Electrolyte diffusivity [m2.s-1]\": 1,\n",
    "    \"Reaction rate constant [A.m-2]\": 1,\n",
    "    \"Maximum concentration [mol.m-3]\": 1,\n",
    "    \"Initial electrode concentration [mol.m-3]\": 0.5,\n",
    "    \"Initial electrolyte concentration [mol.m-3]\": 0.5,\n",
    "    \"Transfer coefficient\": 0.5,\n",
    "    \"Electrode thickness [m]\": 1,\n",
    "    \"Electrolyte thickness [m]\": 1,\n",
    "})\n",
    "\n",
    "sim = Simulation(model, parameter_values=parameters)\n",
    "sol = sim.solve([0, 100])"
   ]
  },
  {
   "cell_type": "code",
   "execution_count": 3,
   "metadata": {},
   "outputs": [
    {
     "data": {
      "application/vnd.jupyter.widget-view+json": {
       "model_id": "03cc3b25864a414aad6b106ab0574207",
       "version_major": 2,
       "version_minor": 0
      },
      "text/plain": [
       "interactive(children=(FloatSlider(value=0.0, description='t', max=0.001, step=1e-05), Output()), _dom_classes=…"
      ]
     },
     "metadata": {},
     "output_type": "display_data"
    },
    {
     "data": {
      "text/plain": [
       "<pybamm.plotting.quick_plot.QuickPlot at 0x7fbdbe427a30>"
      ]
     },
     "execution_count": 3,
     "metadata": {},
     "output_type": "execute_result"
    }
   ],
   "source": [
    "sol.plot([\"Electrode concentration [mol.m-3]\", \"Electrolyte concentration [mol.m-3]\"])"
   ]
  },
  {
   "cell_type": "code",
   "execution_count": null,
   "metadata": {},
   "outputs": [],
   "source": []
  }
 ],
 "metadata": {
  "kernelspec": {
   "display_name": "env",
   "language": "python",
   "name": "python3"
  },
  "language_info": {
   "codemirror_mode": {
    "name": "ipython",
    "version": 3
   },
   "file_extension": ".py",
   "mimetype": "text/x-python",
   "name": "python",
   "nbconvert_exporter": "python",
   "pygments_lexer": "ipython3",
   "version": "3.9.17"
  },
  "orig_nbformat": 4
 },
 "nbformat": 4,
 "nbformat_minor": 2
}
