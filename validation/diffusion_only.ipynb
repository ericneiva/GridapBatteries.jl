{
 "cells": [
  {
   "cell_type": "code",
   "execution_count": 1,
   "metadata": {},
   "outputs": [],
   "source": [
    "import pybamm\n",
    "from src import DiffusionOnly, Simulation"
   ]
  },
  {
   "cell_type": "code",
   "execution_count": 2,
   "metadata": {},
   "outputs": [],
   "source": [
    "model = DiffusionOnly(coord_sys=\"spherical polar\")\n",
    "\n",
    "def D_s(x):\n",
    "    a = [0.0, -0.9231, -0.4066, -0.9930, 0,0]\n",
    "    b = [-13.96, 0.3216, 0.4532, 0.8098, 0.0]\n",
    "    c = [0.0, 2.534e-3, 3.926e-3, 9.924e-2, 1.0]\n",
    "\n",
    "    D_ref = (\n",
    "        10\n",
    "        ** (\n",
    "            a[0] * x + b[0]\n",
    "            + a[1] * pybamm.exp(-((x - b[1]) ** 2) / c[1])\n",
    "            + a[2] * pybamm.exp(-((x - b[2]) ** 2) / c[2])\n",
    "            + a[3] * pybamm.exp(-((x - b[3]) ** 2) / c[3])\n",
    "            + a[4] * pybamm.exp(-((x - b[4]) ** 2) / c[4])\n",
    "        )\n",
    "        #* 2.7  # correcting factor (see O'Regan et al 2021)\n",
    "    ) \n",
    "    return D_ref / 25e-12\n",
    "\n",
    "def D_e(x):\n",
    "    p = [1.01e3, 1.01, -1.56e3, -4.87e2]\n",
    "    T = 300\n",
    "    D_ref = p[0] * pybamm.exp(p[1] * x) * pybamm.exp(p[2] / T) * pybamm.exp(p[3] * x / T) * 1.0e-10\n",
    "    return D_ref / 25e-12\n",
    "\n",
    "parameters = pybamm.ParameterValues({\n",
    "    \"Electrode diffusivity [m2.s-1]\": D_s,\n",
    "    \"Electrolyte diffusivity [m2.s-1]\": D_e,\n",
    "    \"Reaction rate constant [A.m-2]\": 1,\n",
    "    \"Maximum concentration [mol.m-3]\": 1,\n",
    "    \"Initial electrode concentration [mol.m-3]\": 0.5,\n",
    "    \"Initial electrolyte concentration [mol.m-3]\": 1,\n",
    "    \"Transfer coefficient\": 0,\n",
    "    \"Electrode thickness [m]\": 0.3,\n",
    "    \"Electrolyte thickness [m]\": 0.15,\n",
    "})\n",
    "\n",
    "sim = pybamm.Simulation(model, parameter_values=parameters, var_pts={model.r_s: 500, model.r_e: 50})\n",
    "sol = sim.solve([0, 0.0021])"
   ]
  },
  {
   "cell_type": "code",
   "execution_count": 3,
   "metadata": {},
   "outputs": [
    {
     "data": {
      "application/vnd.jupyter.widget-view+json": {
       "model_id": "f4fc88b82bb24e2aac5ff4ecf8b9e002",
       "version_major": 2,
       "version_minor": 0
      },
      "text/plain": [
       "interactive(children=(FloatSlider(value=0.0, description='t', max=0.0021, step=2.1e-05), Output()), _dom_class…"
      ]
     },
     "metadata": {},
     "output_type": "display_data"
    },
    {
     "data": {
      "text/plain": [
       "<pybamm.plotting.quick_plot.QuickPlot at 0x7f770c11caf0>"
      ]
     },
     "execution_count": 3,
     "metadata": {},
     "output_type": "execute_result"
    }
   ],
   "source": [
    "sol.plot([\"Electrode concentration [mol.m-3]\", \"Electrolyte concentration [mol.m-3]\", \"Concentration [mol.m-3]\"])"
   ]
  }
 ],
 "metadata": {
  "kernelspec": {
   "display_name": "env",
   "language": "python",
   "name": "python3"
  },
  "language_info": {
   "codemirror_mode": {
    "name": "ipython",
    "version": 3
   },
   "file_extension": ".py",
   "mimetype": "text/x-python",
   "name": "python",
   "nbconvert_exporter": "python",
   "pygments_lexer": "ipython3",
   "version": "3.9.17"
  },
  "orig_nbformat": 4
 },
 "nbformat": 4,
 "nbformat_minor": 2
}
